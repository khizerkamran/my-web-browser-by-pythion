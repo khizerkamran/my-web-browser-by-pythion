{
 "cells": [
  {
   "cell_type": "code",
   "execution_count": 1,
   "id": "1d48388f",
   "metadata": {},
   "outputs": [
    {
     "data": {
      "text/plain": [
       "0"
      ]
     },
     "execution_count": 1,
     "metadata": {},
     "output_type": "execute_result"
    }
   ],
   "source": [
    "import sys\n",
    "from PyQt5.QtCore import *\n",
    "from PyQt5.QtWidgets import *\n",
    "from PyQt5.QtWebEngineWidgets import *\n",
    "\n",
    "\n",
    "class MainWindow(QMainWindow):\n",
    "    def __init__(self):\n",
    "        super(MainWindow, self).__init__()\n",
    "        self.browser = QWebEngineView()\n",
    "        self.browser.setUrl(QUrl('http://google.com'))\n",
    "        self.setCentralWidget(self.browser)\n",
    "        self.showMaximized()\n",
    "\n",
    "        # navbar\n",
    "        navbar = QToolBar()\n",
    "        self.addToolBar(navbar)\n",
    "\n",
    "        back_btn = QAction('Back', self)\n",
    "        back_btn.triggered.connect(self.browser.back)\n",
    "        navbar.addAction(back_btn)\n",
    "\n",
    "        forward_btn = QAction('Forward', self)\n",
    "        forward_btn.triggered.connect(self.browser.forward)\n",
    "        navbar.addAction(forward_btn)\n",
    "\n",
    "        reload_btn = QAction('Reload', self)\n",
    "        reload_btn.triggered.connect(self.browser.reload)\n",
    "        navbar.addAction(reload_btn)\n",
    "\n",
    "        home_btn = QAction('New Tab', self)\n",
    "        home_btn.triggered.connect(self.navigate_home)\n",
    "        navbar.addAction(home_btn)\n",
    "\n",
    "        self.url_bar = QLineEdit()\n",
    "        self.url_bar.returnPressed.connect(self.navigate_to_url)\n",
    "        navbar.addWidget(self.url_bar)\n",
    "\n",
    "        self.browser.urlChanged.connect(self.update_url)\n",
    "\n",
    "    def navigate_home(self):\n",
    "        self.browser.setUrl(QUrl('https://khizer-kamran.web.app/'))\n",
    "\n",
    "    def navigate_to_url(self):\n",
    "        url = self.url_bar.text()\n",
    "        self.browser.setUrl(QUrl(url))\n",
    "\n",
    "    def update_url(self, q):\n",
    "        self.url_bar.setText(q.toString())\n",
    "\n",
    "\n",
    "app = QApplication(sys.argv)\n",
    "QApplication.setApplicationName('My Cool Browser')\n",
    "window = MainWindow()\n",
    "app.exec_()\n"
   ]
  },
  {
   "cell_type": "code",
   "execution_count": null,
   "id": "350783d8",
   "metadata": {},
   "outputs": [],
   "source": []
  }
 ],
 "metadata": {
  "kernelspec": {
   "display_name": "Python 3",
   "language": "python",
   "name": "python3"
  },
  "language_info": {
   "codemirror_mode": {
    "name": "ipython",
    "version": 3
   },
   "file_extension": ".py",
   "mimetype": "text/x-python",
   "name": "python",
   "nbconvert_exporter": "python",
   "pygments_lexer": "ipython3",
   "version": "3.8.7"
  }
 },
 "nbformat": 4,
 "nbformat_minor": 5
}
